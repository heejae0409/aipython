{
  "nbformat": 4,
  "nbformat_minor": 0,
  "metadata": {
    "colab": {
      "provenance": []
    },
    "kernelspec": {
      "name": "python3",
      "display_name": "Python 3"
    },
    "language_info": {
      "name": "python"
    }
  },
  "cells": [
    {
      "cell_type": "code",
      "execution_count": 6,
      "metadata": {
        "colab": {
          "base_uri": "https://localhost:8080/"
        },
        "id": "JmNpyjhPVdQe",
        "outputId": "213b5753-4f65-491e-c6c2-460a544e3031"
      },
      "outputs": [
        {
          "output_type": "stream",
          "name": "stdout",
          "text": [
            "숫자를 입력하세요: 5\n",
            "홀수입니다.\n"
          ]
        }
      ],
      "source": [
        "num = int(input(\"숫자를 입력하세요: \"))\n",
        "if num % 2 == 0 :\n",
        "  print(\"짝수입니다.\")\n",
        "else :\n",
        "  print(\"홀수입니다.\")"
      ]
    },
    {
      "cell_type": "code",
      "source": [
        "# 점수(0점 ~ 100점)를 입력받아서 ABCD로 학점을 출력하시오. 조건: A=90점 이상, B=70점 이상, C=60점 이상, D: 나머지\n",
        "score = int(input(\"점수를 입력하세요: \"))\n",
        "if score > 100 or score < 0 :\n",
        "  print('잘못된 입력값입니다.')\n",
        "elif score >= 90 :\n",
        "  print('A')\n",
        "elif score < 90 and score >= 70 :\n",
        "  print('B')\n",
        "elif score < 70 and score >= 60 :\n",
        "  print('C')\n",
        "else :\n",
        "  print('D')"
      ],
      "metadata": {
        "colab": {
          "base_uri": "https://localhost:8080/"
        },
        "id": "fQzj8gkvfPSe",
        "outputId": "8fa88c79-cc69-422b-8709-a19ed9d0caff"
      },
      "execution_count": 19,
      "outputs": [
        {
          "output_type": "stream",
          "name": "stdout",
          "text": [
            "점수를 입력하세요: 30\n",
            "D\n"
          ]
        }
      ]
    },
    {
      "cell_type": "code",
      "source": [
        "sum = 0\n",
        "for a in range(1,6) :\n",
        "  sum += a\n",
        "print(\"1부터 5까지의 합은\", sum, \"입니다.\")\n"
      ],
      "metadata": {
        "colab": {
          "base_uri": "https://localhost:8080/"
        },
        "id": "zVxj2jILoP1o",
        "outputId": "25c9e409-36e6-4a8a-f74e-f28e8be1032b"
      },
      "execution_count": 21,
      "outputs": [
        {
          "output_type": "stream",
          "name": "stdout",
          "text": [
            "1부터 5까지의 합은 15 입니다.\n"
          ]
        }
      ]
    },
    {
      "cell_type": "code",
      "source": [
        "sum_odd = 0\n",
        "sum_even = 0\n",
        "for a in range(1,101) :\n",
        "  if a % 2 == 0 :\n",
        "    sum_even += a\n",
        "  else :\n",
        "    sum_odd += a\n",
        "print(\"1부터 100까지 짝수의 합은\", sum_even, \"입니다.\")\n",
        "print(\"1부터 100까지 홀수의 합은\", sum_odd, \"입니다.\")"
      ],
      "metadata": {
        "colab": {
          "base_uri": "https://localhost:8080/"
        },
        "id": "YUjXPvWxwxxC",
        "outputId": "47d27f29-0962-4649-c7ca-1be05324b082"
      },
      "execution_count": 25,
      "outputs": [
        {
          "output_type": "stream",
          "name": "stdout",
          "text": [
            "1부터 100까지 짝수의 합은 2550 입니다.\n",
            "1부터 100까지 홀수의 합은 2500 입니다.\n"
          ]
        }
      ]
    },
    {
      "cell_type": "code",
      "source": [
        "sumodd = 0\n",
        "sumeven = 0\n",
        "for a in range(1,101) :\n",
        "  if a % 2 == 0 :\n",
        "    sumeven += a\n",
        "for b in range(1,101) :\n",
        "  if b % 2 == 1 :\n",
        "    sumodd += b\n",
        "print(\"1부터 100까지 짝수의 합은\", sumeven, \"입니다.\")\n",
        "print(\"1부터 100까지 홀수의 합은\", sumodd, \"입니다.\")"
      ],
      "metadata": {
        "colab": {
          "base_uri": "https://localhost:8080/"
        },
        "id": "VZXIkU29zMn6",
        "outputId": "1e451108-3c31-47e7-f719-689c059dfd0f"
      },
      "execution_count": 26,
      "outputs": [
        {
          "output_type": "stream",
          "name": "stdout",
          "text": [
            "1부터 100까지 짝수의 합은 2550 입니다.\n",
            "1부터 100까지 홀수의 합은 2500 입니다.\n"
          ]
        }
      ]
    },
    {
      "cell_type": "code",
      "source": [
        "sum = 0\n",
        "money = 100\n",
        "day = 1\n",
        "while sum < 50000 :\n",
        "  sum = sum + money\n",
        "  money = money + 100\n",
        "  day = day + 1\n",
        "print(\"총\", day, \"일이 걸립니다.\")"
      ],
      "metadata": {
        "colab": {
          "base_uri": "https://localhost:8080/"
        },
        "id": "YnqopdsA1Gc7",
        "outputId": "65f0fe7f-c778-43e8-84ec-42ddddf6b5b4"
      },
      "execution_count": 27,
      "outputs": [
        {
          "output_type": "stream",
          "name": "stdout",
          "text": [
            "총 33 일이 걸립니다.\n"
          ]
        }
      ]
    },
    {
      "cell_type": "code",
      "source": [
        "# 숫자를 입력받아서 총합을 구하는 프로그램을 작성하시오. 단 0을 입력되면 종료되고 최종 총합을 출력한다.\n",
        "sum_number = 0\n",
        "number = int(input(\"숫자를 입력하세요: \"))\n",
        "if number != 0:\n",
        "    sum_number = sum_number + number\n",
        "while number != 0 :\n",
        "  number = int(input(\"숫자를 입력하세요: \"))\n",
        "  sum_number = sum_number + number\n",
        "print(\"총합:\", sum_number)"
      ],
      "metadata": {
        "colab": {
          "base_uri": "https://localhost:8080/"
        },
        "id": "iwncPwvc4AfL",
        "outputId": "1af7601f-c090-4705-b02f-5d3de52f3d52"
      },
      "execution_count": 40,
      "outputs": [
        {
          "output_type": "stream",
          "name": "stdout",
          "text": [
            "숫자를 입력하세요 (종료하려면 0 입력): 99\n",
            "숫자를 입력하세요 (종료하려면 0 입력): 8\n",
            "숫자를 입력하세요 (종료하려면 0 입력): 0\n",
            "총합: 107\n"
          ]
        }
      ]
    }
  ]
}