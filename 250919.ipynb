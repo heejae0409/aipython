{
  "nbformat": 4,
  "nbformat_minor": 0,
  "metadata": {
    "colab": {
      "provenance": []
    },
    "kernelspec": {
      "name": "python3",
      "display_name": "Python 3"
    },
    "language_info": {
      "name": "python"
    }
  },
  "cells": [
    {
      "cell_type": "code",
      "execution_count": 1,
      "metadata": {
        "colab": {
          "base_uri": "https://localhost:8080/"
        },
        "id": "4LqDi2ciXG2H",
        "outputId": "aa7be55f-e0b9-46fd-b781-4560e9872b9d"
      },
      "outputs": [
        {
          "output_type": "stream",
          "name": "stdout",
          "text": [
            "홍길동\n",
            "18\n"
          ]
        }
      ],
      "source": [
        "# name 변수에 '홍길동'을 대입하고 age 변수에 18을 대입\n",
        "name='홍길동'\n",
        "age=18\n",
        "print(name)\n",
        "print(age)"
      ]
    },
    {
      "cell_type": "code",
      "source": [
        "# c 에 7을 대입하고, 이 식의 값인 7을 b 에 대입하며, 마지막으로 7을 a 에 대입하여 a , b , c 모두에 7이 저장되도록 하기\n",
        "c=10\n",
        "b=c\n",
        "a=b\n",
        "print(a,b,c)"
      ],
      "metadata": {
        "colab": {
          "base_uri": "https://localhost:8080/"
        },
        "id": "4m54C5HDdL81",
        "outputId": "8577e19c-bb97-4fcb-f56d-aac5b48eba69"
      },
      "execution_count": 6,
      "outputs": [
        {
          "output_type": "stream",
          "name": "stdout",
          "text": [
            "10 10 10\n"
          ]
        }
      ]
    },
    {
      "cell_type": "code",
      "source": [
        "a+=10\n",
        "print(a)"
      ],
      "metadata": {
        "colab": {
          "base_uri": "https://localhost:8080/"
        },
        "id": "hmUJx-cSeu0t",
        "outputId": "79a005c6-2628-4037-902f-b8035ef34a5a"
      },
      "execution_count": 7,
      "outputs": [
        {
          "output_type": "stream",
          "name": "stdout",
          "text": [
            "20\n"
          ]
        }
      ]
    },
    {
      "cell_type": "code",
      "source": [
        "a-=10\n",
        "print(a)"
      ],
      "metadata": {
        "id": "BHFqrvomf65U"
      },
      "execution_count": null,
      "outputs": []
    },
    {
      "cell_type": "code",
      "source": [
        "# a 의 값인 7과 b 의 값인 11을 교환하는 프로그램\n",
        "a=7\n",
        "b=11\n",
        "lab=a\n",
        "a=b\n",
        "b=lab\n",
        "print(a)\n",
        "print(b)"
      ],
      "metadata": {
        "colab": {
          "base_uri": "https://localhost:8080/"
        },
        "id": "2G07AqBngb10",
        "outputId": "c4c115c0-4365-448b-be06-472d07834a23"
      },
      "execution_count": 10,
      "outputs": [
        {
          "output_type": "stream",
          "name": "stdout",
          "text": [
            "11\n",
            "7\n"
          ]
        }
      ]
    },
    {
      "cell_type": "code",
      "source": [
        "type(age)\n"
      ],
      "metadata": {
        "colab": {
          "base_uri": "https://localhost:8080/"
        },
        "id": "4wNHYhHBj8hG",
        "outputId": "5827c3c1-c1d5-45d3-f3b4-24118212e248"
      },
      "execution_count": 13,
      "outputs": [
        {
          "output_type": "execute_result",
          "data": {
            "text/plain": [
              "int"
            ]
          },
          "metadata": {},
          "execution_count": 13
        }
      ]
    },
    {
      "cell_type": "code",
      "source": [
        "type(name)"
      ],
      "metadata": {
        "colab": {
          "base_uri": "https://localhost:8080/"
        },
        "id": "tiWvuogUmABN",
        "outputId": "8d4aa928-768d-4bfb-95f5-68a7f9cd7ee4"
      },
      "execution_count": 14,
      "outputs": [
        {
          "output_type": "execute_result",
          "data": {
            "text/plain": [
              "str"
            ]
          },
          "metadata": {},
          "execution_count": 14
        }
      ]
    },
    {
      "cell_type": "code",
      "source": [
        "height=180.5\n",
        "type(height)"
      ],
      "metadata": {
        "colab": {
          "base_uri": "https://localhost:8080/"
        },
        "id": "DzTyOqa8mKpd",
        "outputId": "80f44c9c-a867-40f2-e0d9-480489a73247"
      },
      "execution_count": 15,
      "outputs": [
        {
          "output_type": "execute_result",
          "data": {
            "text/plain": [
              "float"
            ]
          },
          "metadata": {},
          "execution_count": 15
        }
      ]
    },
    {
      "cell_type": "code",
      "source": [
        "flag=True\n",
        "type(flag)"
      ],
      "metadata": {
        "colab": {
          "base_uri": "https://localhost:8080/"
        },
        "id": "MM6kIbzfmict",
        "outputId": "2a90f3e2-9ecf-4cce-b5d5-f57b0fe696d2"
      },
      "execution_count": 16,
      "outputs": [
        {
          "output_type": "execute_result",
          "data": {
            "text/plain": [
              "bool"
            ]
          },
          "metadata": {},
          "execution_count": 16
        }
      ]
    },
    {
      "cell_type": "code",
      "source": [
        "# a 에 10진수 20을, b 에 8진수 34를, c 에 16진수 A1을, d 에 2진수 1110을 저장한 후 출력하는 프로그램\n",
        "a=20\n",
        "b=0o34\n",
        "c=0xA1\n",
        "d=0b1110\n",
        "print(a,b,c,d)"
      ],
      "metadata": {
        "colab": {
          "base_uri": "https://localhost:8080/"
        },
        "id": "BvN_uqM2mrqu",
        "outputId": "88788e2d-59f6-4042-bd93-42c808880557"
      },
      "execution_count": 18,
      "outputs": [
        {
          "output_type": "stream",
          "name": "stdout",
          "text": [
            "20 28 161 14\n"
          ]
        }
      ]
    },
    {
      "cell_type": "code",
      "source": [
        "a=10\n",
        "b=20"
      ],
      "metadata": {
        "id": "REIZl_EBqnjf"
      },
      "execution_count": 19,
      "outputs": []
    },
    {
      "cell_type": "code",
      "source": [
        "c,d=30,40"
      ],
      "metadata": {
        "id": "UtKnjdAIr64f"
      },
      "execution_count": 20,
      "outputs": []
    },
    {
      "cell_type": "code",
      "source": [
        "a=10>20\n",
        "print(a)\n",
        "type(a)"
      ],
      "metadata": {
        "colab": {
          "base_uri": "https://localhost:8080/"
        },
        "id": "JYDUwlwksBGu",
        "outputId": "1482ef23-908e-496f-b9a5-d0f33651bd8a"
      },
      "execution_count": 23,
      "outputs": [
        {
          "output_type": "stream",
          "name": "stdout",
          "text": [
            "False\n"
          ]
        },
        {
          "output_type": "execute_result",
          "data": {
            "text/plain": [
              "bool"
            ]
          },
          "metadata": {},
          "execution_count": 23
        }
      ]
    },
    {
      "cell_type": "code",
      "source": [
        "a='Python'\n",
        "print(a)"
      ],
      "metadata": {
        "colab": {
          "base_uri": "https://localhost:8080/"
        },
        "id": "hmmThnuisgnP",
        "outputId": "75942061-6fdd-4402-f449-da8ddfd5e714"
      },
      "execution_count": 24,
      "outputs": [
        {
          "output_type": "stream",
          "name": "stdout",
          "text": [
            "Python\n"
          ]
        }
      ]
    },
    {
      "cell_type": "code",
      "source": [
        "a='Hi'+'Python'\n",
        "print(a)"
      ],
      "metadata": {
        "colab": {
          "base_uri": "https://localhost:8080/"
        },
        "id": "nTPKydCxsXA_",
        "outputId": "8cb2492b-f6c5-4dcc-8463-9c96add470c9"
      },
      "execution_count": 25,
      "outputs": [
        {
          "output_type": "stream",
          "name": "stdout",
          "text": [
            "HiPython\n"
          ]
        }
      ]
    },
    {
      "cell_type": "code",
      "source": [
        "a=10\n",
        "b='10'"
      ],
      "metadata": {
        "id": "bCC6hS6XtGgP"
      },
      "execution_count": 28,
      "outputs": []
    },
    {
      "cell_type": "code",
      "source": [
        "c=a+int(b)\n",
        "print(c)"
      ],
      "metadata": {
        "colab": {
          "base_uri": "https://localhost:8080/"
        },
        "id": "LVkqFsDhuDEo",
        "outputId": "90668e68-6865-4b9d-f24a-fc7076ea2e09"
      },
      "execution_count": 29,
      "outputs": [
        {
          "output_type": "stream",
          "name": "stdout",
          "text": [
            "20\n"
          ]
        }
      ]
    },
    {
      "cell_type": "code",
      "source": [
        "c=a+float(b)\n",
        "print(c)"
      ],
      "metadata": {
        "colab": {
          "base_uri": "https://localhost:8080/"
        },
        "id": "ZaRA2GgUulbf",
        "outputId": "05998363-6597-4bf3-88ee-fdd16131422a"
      },
      "execution_count": 34,
      "outputs": [
        {
          "output_type": "stream",
          "name": "stdout",
          "text": [
            "20.0\n"
          ]
        }
      ]
    },
    {
      "cell_type": "code",
      "source": [
        "name=input(\"이름을 입력\")\n",
        "age=input(\"나이를 입력\")"
      ],
      "metadata": {
        "colab": {
          "base_uri": "https://localhost:8080/"
        },
        "id": "oZNmLHHqu5j-",
        "outputId": "e8ddb5d4-f253-49cd-db52-7dc85214328d"
      },
      "execution_count": 47,
      "outputs": [
        {
          "name": "stdout",
          "output_type": "stream",
          "text": [
            "이름을 입력홍길동\n",
            "나이를 입력18\n"
          ]
        }
      ]
    },
    {
      "cell_type": "code",
      "source": [
        "print(name)\n",
        "print(age)"
      ],
      "metadata": {
        "colab": {
          "base_uri": "https://localhost:8080/"
        },
        "id": "HTU9VPJXvmPv",
        "outputId": "cc265e52-eb44-4dae-ae63-5b9b9be4ffe2"
      },
      "execution_count": 48,
      "outputs": [
        {
          "output_type": "stream",
          "name": "stdout",
          "text": [
            "홍길동\n",
            "18\n"
          ]
        }
      ]
    },
    {
      "cell_type": "code",
      "source": [
        "type(age)"
      ],
      "metadata": {
        "colab": {
          "base_uri": "https://localhost:8080/"
        },
        "id": "-z3DDLaowFHf",
        "outputId": "4c922b6b-feea-468a-c1b7-4156509d248c"
      },
      "execution_count": 49,
      "outputs": [
        {
          "output_type": "execute_result",
          "data": {
            "text/plain": [
              "str"
            ]
          },
          "metadata": {},
          "execution_count": 49
        }
      ]
    },
    {
      "cell_type": "code",
      "source": [
        "age=int(age)+2"
      ],
      "metadata": {
        "id": "lwnsrNtMwGUP"
      },
      "execution_count": 58,
      "outputs": []
    },
    {
      "cell_type": "code",
      "source": [
        "# 사용자로부터 두 정수 9와 5를 입력받아 뺄셈한 후 출력하는 프로그램\n",
        "a=int(input())\n",
        "b=int(input())\n",
        "c=a-b\n",
        "print(a,b,c)\n",
        "print(a)\n",
        "print(b,end='')\n",
        "print(c)"
      ],
      "metadata": {
        "colab": {
          "base_uri": "https://localhost:8080/"
        },
        "id": "9txn1EkjwnQv",
        "outputId": "b867a39f-a54d-45f9-acb3-1b1d290a85d8"
      },
      "execution_count": 60,
      "outputs": [
        {
          "output_type": "stream",
          "name": "stdout",
          "text": [
            "9\n",
            "5\n",
            "9 5 4\n",
            "9\n",
            "54\n"
          ]
        }
      ]
    },
    {
      "cell_type": "code",
      "source": [
        "name = \"홍길동\"\n",
        "age = 30\n",
        "greeting = f\"안녕하세요, {name}님! 당신은 {age}살이시군요.\"\n",
        "print(greeting)"
      ],
      "metadata": {
        "id": "0j_EYROQzv_P"
      },
      "execution_count": null,
      "outputs": []
    },
    {
      "cell_type": "code",
      "source": [
        "r=int(input(\"원의 반지름을 입력하세요\"))\n",
        "a=3.14*r*r\n",
        "b=f\"반지름은 {r}이고, 넓이는 {a}입니다.\"\n",
        "print(b)"
      ],
      "metadata": {
        "colab": {
          "base_uri": "https://localhost:8080/"
        },
        "id": "D1sZyvTD0iEg",
        "outputId": "05b481f8-c0ef-4bb9-8e00-9b4c7eac8842"
      },
      "execution_count": 62,
      "outputs": [
        {
          "output_type": "stream",
          "name": "stdout",
          "text": [
            "5\n",
            "반지름은 5이고, 넓이는 78.5입니다.\n"
          ]
        }
      ]
    },
    {
      "cell_type": "code",
      "source": [],
      "metadata": {
        "id": "Xrj09wWl2QHQ"
      },
      "execution_count": null,
      "outputs": []
    }
  ]
}