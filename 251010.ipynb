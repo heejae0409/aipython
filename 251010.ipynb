{
  "nbformat": 4,
  "nbformat_minor": 0,
  "metadata": {
    "colab": {
      "provenance": []
    },
    "kernelspec": {
      "name": "python3",
      "display_name": "Python 3"
    },
    "language_info": {
      "name": "python"
    }
  },
  "cells": [
    {
      "cell_type": "code",
      "execution_count": 4,
      "metadata": {
        "id": "GBzYmNDfcrz1"
      },
      "outputs": [],
      "source": [
        "lst=['a','b','c','d','e']\n",
        "num=[1,2,3,4,5]\n",
        "prices=[1000, 2500, 3000, 1500, 5000]"
      ]
    },
    {
      "cell_type": "code",
      "source": [
        "lst"
      ],
      "metadata": {
        "colab": {
          "base_uri": "https://localhost:8080/"
        },
        "id": "Rvdn52pwmLh-",
        "outputId": "4d4b04b3-839a-4db2-ab46-cec2cbcb4483"
      },
      "execution_count": 2,
      "outputs": [
        {
          "output_type": "execute_result",
          "data": {
            "text/plain": [
              "['a', 'b', 'c', 'd', 'e']"
            ]
          },
          "metadata": {},
          "execution_count": 2
        }
      ]
    },
    {
      "cell_type": "code",
      "source": [
        "num"
      ],
      "metadata": {
        "colab": {
          "base_uri": "https://localhost:8080/"
        },
        "id": "6E0GrHASmSMH",
        "outputId": "cce20cd2-de6c-4227-a486-f121671d008d"
      },
      "execution_count": 3,
      "outputs": [
        {
          "output_type": "execute_result",
          "data": {
            "text/plain": [
              "[1, 2, 3, 4, 5]"
            ]
          },
          "metadata": {},
          "execution_count": 3
        }
      ]
    },
    {
      "cell_type": "code",
      "source": [
        "for i in range(len(num)):\n",
        "  num[i] = num[i] * 10"
      ],
      "metadata": {
        "id": "9sJhEGuqmUcn"
      },
      "execution_count": 6,
      "outputs": []
    },
    {
      "cell_type": "code",
      "source": [
        "num"
      ],
      "metadata": {
        "colab": {
          "base_uri": "https://localhost:8080/"
        },
        "id": "N7HD6u3hm3Cm",
        "outputId": "650abb44-4725-4af2-b407-759b441ffc1a"
      },
      "execution_count": 7,
      "outputs": [
        {
          "output_type": "execute_result",
          "data": {
            "text/plain": [
              "[10, 20, 30, 40, 50]"
            ]
          },
          "metadata": {},
          "execution_count": 7
        }
      ]
    },
    {
      "cell_type": "code",
      "source": [
        "len(num)"
      ],
      "metadata": {
        "colab": {
          "base_uri": "https://localhost:8080/"
        },
        "id": "i7S0kD0pm-Km",
        "outputId": "e2df5678-f49f-4475-b41f-6e373e7575d5"
      },
      "execution_count": 8,
      "outputs": [
        {
          "output_type": "execute_result",
          "data": {
            "text/plain": [
              "5"
            ]
          },
          "metadata": {},
          "execution_count": 8
        }
      ]
    },
    {
      "cell_type": "code",
      "source": [
        "books=[]\n",
        "books.append('파이썬')\n",
        "books.append('c')\n",
        "books.append('자바')\n",
        "books\n",
        "books.insert(2,'GO')\n",
        "books"
      ],
      "metadata": {
        "colab": {
          "base_uri": "https://localhost:8080/"
        },
        "id": "3loWnOupniYW",
        "outputId": "e35d8355-6d4e-42c3-be2d-325200ae6c74"
      },
      "execution_count": 12,
      "outputs": [
        {
          "output_type": "execute_result",
          "data": {
            "text/plain": [
              "['파이썬', 'c', 'GO', '자바']"
            ]
          },
          "metadata": {},
          "execution_count": 12
        }
      ]
    },
    {
      "cell_type": "code",
      "source": [
        "books.extend(['c++','Pascal'])\n",
        "books"
      ],
      "metadata": {
        "colab": {
          "base_uri": "https://localhost:8080/"
        },
        "id": "JyZzE0OKpfcv",
        "outputId": "8e7a46b5-e7af-4b1f-b9e3-3569a05209b6"
      },
      "execution_count": 15,
      "outputs": [
        {
          "output_type": "execute_result",
          "data": {
            "text/plain": [
              "['파이썬', 'c', 'GO', '자바', 'c++', 'Pascal', 'c++', 'Pascal', 'c++', 'Pascal']"
            ]
          },
          "metadata": {},
          "execution_count": 15
        }
      ]
    },
    {
      "cell_type": "code",
      "source": [
        "books.pop()"
      ],
      "metadata": {
        "id": "ZYw3QjvJpmVG"
      },
      "execution_count": null,
      "outputs": []
    },
    {
      "cell_type": "code",
      "source": [
        "books.remove('c')\n",
        "books"
      ],
      "metadata": {
        "id": "AsYaRsYJqYsf"
      },
      "execution_count": 16,
      "outputs": []
    },
    {
      "cell_type": "code",
      "source": [
        "books.clear()\n",
        "books"
      ],
      "metadata": {
        "id": "bJBvxaOaqcL3"
      },
      "execution_count": null,
      "outputs": []
    },
    {
      "cell_type": "code",
      "source": [
        "num.reverse()\n",
        "num"
      ],
      "metadata": {
        "colab": {
          "base_uri": "https://localhost:8080/"
        },
        "id": "hB6Tgl_Zq4ku",
        "outputId": "e418a762-b42e-4749-a0fa-b90da642bfde"
      },
      "execution_count": 17,
      "outputs": [
        {
          "output_type": "execute_result",
          "data": {
            "text/plain": [
              "[50, 40, 30, 20, 10]"
            ]
          },
          "metadata": {},
          "execution_count": 17
        }
      ]
    },
    {
      "cell_type": "code",
      "source": [
        "num.sort()\n",
        "num"
      ],
      "metadata": {
        "colab": {
          "base_uri": "https://localhost:8080/"
        },
        "id": "WWm5rq7Jq-gH",
        "outputId": "e0fdd306-2056-41bf-d8f4-f471db46a08b"
      },
      "execution_count": 19,
      "outputs": [
        {
          "output_type": "execute_result",
          "data": {
            "text/plain": [
              "[10, 20, 30, 40, 50]"
            ]
          },
          "metadata": {},
          "execution_count": 19
        }
      ]
    },
    {
      "cell_type": "code",
      "source": [
        "num.sort(reverse=True)\n",
        "num"
      ],
      "metadata": {
        "id": "VjcpcJPlrLM2"
      },
      "execution_count": null,
      "outputs": []
    },
    {
      "cell_type": "code",
      "source": [
        "books=['파이썬', 'c', 'GO', '자바', 'c++', 'Pascal']\n",
        "'자바' in books\n"
      ],
      "metadata": {
        "colab": {
          "base_uri": "https://localhost:8080/"
        },
        "id": "5cdfY5cIrME1",
        "outputId": "91913a2f-dbae-4c23-b1a3-3ad8a1ab0864"
      },
      "execution_count": 20,
      "outputs": [
        {
          "output_type": "execute_result",
          "data": {
            "text/plain": [
              "True"
            ]
          },
          "metadata": {},
          "execution_count": 20
        }
      ]
    },
    {
      "cell_type": "code",
      "source": [
        "'java' in books"
      ],
      "metadata": {
        "colab": {
          "base_uri": "https://localhost:8080/"
        },
        "id": "p6Er7Qbgrz13",
        "outputId": "6f0e8183-8731-4833-fb62-10d4a21814b3"
      },
      "execution_count": 21,
      "outputs": [
        {
          "output_type": "execute_result",
          "data": {
            "text/plain": [
              "False"
            ]
          },
          "metadata": {},
          "execution_count": 21
        }
      ]
    },
    {
      "cell_type": "code",
      "source": [
        "books.index('자바')"
      ],
      "metadata": {
        "colab": {
          "base_uri": "https://localhost:8080/"
        },
        "id": "-8c32a1Hr1ql",
        "outputId": "3e18afed-8d71-4bb6-ed00-b7b1e5659664"
      },
      "execution_count": 22,
      "outputs": [
        {
          "output_type": "execute_result",
          "data": {
            "text/plain": [
              "3"
            ]
          },
          "metadata": {},
          "execution_count": 22
        }
      ]
    },
    {
      "cell_type": "code",
      "source": [
        "import random\n",
        "random.choice(books)\n"
      ],
      "metadata": {
        "colab": {
          "base_uri": "https://localhost:8080/",
          "height": 35
        },
        "id": "001aMKBasBLH",
        "outputId": "a16d95f8-de1b-49a7-e2bf-9ccac982ae59"
      },
      "execution_count": 31,
      "outputs": [
        {
          "output_type": "execute_result",
          "data": {
            "text/plain": [
              "'GO'"
            ],
            "application/vnd.google.colaboratory.intrinsic+json": {
              "type": "string"
            }
          },
          "metadata": {},
          "execution_count": 31
        }
      ]
    },
    {
      "cell_type": "code",
      "source": [
        "max(prices)"
      ],
      "metadata": {
        "colab": {
          "base_uri": "https://localhost:8080/"
        },
        "id": "VBA1QKpksdGm",
        "outputId": "d74920d7-d422-41e5-ae93-e923ded70a86"
      },
      "execution_count": 32,
      "outputs": [
        {
          "output_type": "execute_result",
          "data": {
            "text/plain": [
              "5000"
            ]
          },
          "metadata": {},
          "execution_count": 32
        }
      ]
    },
    {
      "cell_type": "code",
      "source": [
        "sum(prices)"
      ],
      "metadata": {
        "colab": {
          "base_uri": "https://localhost:8080/"
        },
        "id": "J0k5VR7utC1H",
        "outputId": "04e1ddd0-fa3e-4cbd-c8f1-b1f481a56809"
      },
      "execution_count": 33,
      "outputs": [
        {
          "output_type": "execute_result",
          "data": {
            "text/plain": [
              "13000"
            ]
          },
          "metadata": {},
          "execution_count": 33
        }
      ]
    },
    {
      "cell_type": "code",
      "source": [
        "#for 문을 써서 prices에 있는 모든 숫자를 더해서 출력하시오(단, sum함수는 사용하지 말 것)\n",
        "plus=0\n",
        "for i in range(len(prices)) :\n",
        "  plus+=prices[i]"
      ],
      "metadata": {
        "id": "OQYaiJKBtEBG"
      },
      "execution_count": 39,
      "outputs": []
    },
    {
      "cell_type": "code",
      "metadata": {
        "colab": {
          "base_uri": "https://localhost:8080/"
        },
        "id": "f0e77183",
        "outputId": "55e791db-bae3-4a4b-decf-5c261f861fbb"
      },
      "source": [
        "dynasties = [\n",
        "    \"태조\", \"정종\", \"태종\", \"세종\", \"문종\", \"단종\", \"세조\", \"예종\", \"성종\",\n",
        "    \"연산군\", \"중종\", \"인종\", \"명종\", \"선조\", \"광해군\", \"인조\", \"효종\", \"현종\",\n",
        "    \"숙종\", \"경종\", \"영조\", \"정조\", \"순조\", \"헌종\", \"철종\", \"고종\", \"순종\"\n",
        "]\n",
        "\n",
        "print(dynasties)"
      ],
      "execution_count": 40,
      "outputs": [
        {
          "output_type": "stream",
          "name": "stdout",
          "text": [
            "['태조', '정종', '태종', '세종', '문종', '단종', '세조', '예종', '성종', '연산군', '중종', '인종', '명종', '선조', '광해군', '인조', '효종', '현종', '숙종', '경종', '영조', '정조', '순조', '헌종', '철종', '고종', '순종']\n"
          ]
        }
      ]
    },
    {
      "cell_type": "code",
      "source": [
        "# 순번을 입력하면 해당 왕의 묘호를, 묘호를 입력하면 순번을 알려주는 양방향 사전 프로그램을 만드시오\n",
        "\n",
        "num_1=int(input())\n",
        "kingnum=num_1-1\n",
        "dynasties[kingnum]"
      ],
      "metadata": {
        "colab": {
          "base_uri": "https://localhost:8080/",
          "height": 54
        },
        "id": "UcpannbStq62",
        "outputId": "1a6122d8-f3e5-49ec-ad8e-657826d996bb"
      },
      "execution_count": 48,
      "outputs": [
        {
          "name": "stdout",
          "output_type": "stream",
          "text": [
            "3\n"
          ]
        },
        {
          "output_type": "execute_result",
          "data": {
            "text/plain": [
              "'태종'"
            ],
            "application/vnd.google.colaboratory.intrinsic+json": {
              "type": "string"
            }
          },
          "metadata": {},
          "execution_count": 48
        }
      ]
    },
    {
      "cell_type": "code",
      "source": [
        "for i in range(len(dynasties)) :\n",
        "  print(f\"{i+1}대 {dynasties[i]}\")"
      ],
      "metadata": {
        "colab": {
          "base_uri": "https://localhost:8080/"
        },
        "id": "F4nFXz1nwPwe",
        "outputId": "63f4952a-f5a2-4287-900e-b13ec2b48b02"
      },
      "execution_count": 51,
      "outputs": [
        {
          "output_type": "stream",
          "name": "stdout",
          "text": [
            "1대 태조\n",
            "2대 정종\n",
            "3대 태종\n",
            "4대 세종\n",
            "5대 문종\n",
            "6대 단종\n",
            "7대 세조\n",
            "8대 예종\n",
            "9대 성종\n",
            "10대 연산군\n",
            "11대 중종\n",
            "12대 인종\n",
            "13대 명종\n",
            "14대 선조\n",
            "15대 광해군\n",
            "16대 인조\n",
            "17대 효종\n",
            "18대 현종\n",
            "19대 숙종\n",
            "20대 경종\n",
            "21대 영조\n",
            "22대 정조\n",
            "23대 순조\n",
            "24대 헌종\n",
            "25대 철종\n",
            "26대 고종\n",
            "27대 순종\n"
          ]
        }
      ]
    },
    {
      "cell_type": "code",
      "source": [
        "char1=\"한글'사용법'\"\n",
        "print(char1)"
      ],
      "metadata": {
        "colab": {
          "base_uri": "https://localhost:8080/"
        },
        "id": "iDhl6f9Sz1aG",
        "outputId": "daeba9a8-1eac-4b06-be38-6c86a2679941"
      },
      "execution_count": 60,
      "outputs": [
        {
          "output_type": "stream",
          "name": "stdout",
          "text": [
            "한글'사용법'\n"
          ]
        }
      ]
    },
    {
      "cell_type": "code",
      "source": [
        "char1='\\'한글\\'사용법' #\\: 역슬래시\n",
        "print(char1)"
      ],
      "metadata": {
        "colab": {
          "base_uri": "https://localhost:8080/"
        },
        "id": "F-kB_Tl11CMF",
        "outputId": "68fc2051-7ff1-4567-f52a-5223112b08e4"
      },
      "execution_count": 62,
      "outputs": [
        {
          "output_type": "stream",
          "name": "stdout",
          "text": [
            "'한글'사용법\n"
          ]
        }
      ]
    },
    {
      "cell_type": "code",
      "source": [
        "char1='\\'한글\\'\\t사용법'\n",
        "print(char1)"
      ],
      "metadata": {
        "colab": {
          "base_uri": "https://localhost:8080/"
        },
        "id": "g_flwRvk2HXV",
        "outputId": "29c4f49f-6d0c-4af2-cf53-d0c1663d4c82"
      },
      "execution_count": 59,
      "outputs": [
        {
          "output_type": "stream",
          "name": "stdout",
          "text": [
            "'한글'\t사용법\n"
          ]
        }
      ]
    },
    {
      "cell_type": "code",
      "source": [
        "char2='매뉴얼'\n",
        "print(char1+char2)"
      ],
      "metadata": {
        "colab": {
          "base_uri": "https://localhost:8080/"
        },
        "id": "ffq4x2L12qcO",
        "outputId": "68c420a7-08f3-462c-f867-cb2d570158ac"
      },
      "execution_count": 61,
      "outputs": [
        {
          "output_type": "stream",
          "name": "stdout",
          "text": [
            "한글'사용법'매뉴얼\n"
          ]
        }
      ]
    },
    {
      "cell_type": "code",
      "source": [
        "'Python'.lower()\n"
      ],
      "metadata": {
        "colab": {
          "base_uri": "https://localhost:8080/",
          "height": 35
        },
        "id": "Uj2-Kdt92xAd",
        "outputId": "5d7fbc49-a631-42dc-9da5-d807ee540d8c"
      },
      "execution_count": 64,
      "outputs": [
        {
          "output_type": "execute_result",
          "data": {
            "text/plain": [
              "'python'"
            ],
            "application/vnd.google.colaboratory.intrinsic+json": {
              "type": "string"
            }
          },
          "metadata": {},
          "execution_count": 64
        }
      ]
    },
    {
      "cell_type": "code",
      "source": [
        "'a,b,c'.split(\",\")"
      ],
      "metadata": {
        "colab": {
          "base_uri": "https://localhost:8080/"
        },
        "id": "wEytgzhp4Wct",
        "outputId": "3f0bdd7a-d840-4a5e-e19e-c2eb4d038181"
      },
      "execution_count": 68,
      "outputs": [
        {
          "output_type": "execute_result",
          "data": {
            "text/plain": [
              "['a', 'b', 'c']"
            ]
          },
          "metadata": {},
          "execution_count": 68
        }
      ]
    },
    {
      "cell_type": "code",
      "source": [
        "# int문으로 문자 or 숫자를 입력받아서 문자인지 숫자인지를 판단하는 프로그램\n",
        "A=0\n",
        "A=input('데이터를 입력하세요')\n",
        "if A.isdigit() :\n",
        "  print('숫자')\n",
        "else :\n",
        "  print('문자')"
      ],
      "metadata": {
        "colab": {
          "base_uri": "https://localhost:8080/"
        },
        "id": "v9OGmRGY4v6l",
        "outputId": "2fa13e7c-fee3-4cb8-9f64-e8eefc76860c"
      },
      "execution_count": 72,
      "outputs": [
        {
          "output_type": "stream",
          "name": "stdout",
          "text": [
            "데이터를 입력하세요ㄱㄴㄷ\n",
            "문자\n"
          ]
        }
      ]
    },
    {
      "cell_type": "code",
      "source": [
        "# 문자를 입력받으면 그 왕의 순번을, 숫자를 입력받으면 그 왕의 이름을 출력하는 프로그램\n",
        "\n",
        "# 여기에 더해, 예외 경우 처리하는 것도 추가해보기('연산'을 입력했다면?)\n",
        "\n",
        "k=0\n",
        "k=input('순번 또는 왕의 이름을 입력')\n",
        "if k.isdigit() :\n",
        "  i=int(k)\n",
        "  print(dynasties[i-1])\n",
        "else :\n",
        "  print(dynasties.index(k)+1)"
      ],
      "metadata": {
        "colab": {
          "base_uri": "https://localhost:8080/"
        },
        "id": "cwQEtWPu6NQF",
        "outputId": "965602dd-53b7-4dc7-fcc9-b0779a0d0b98"
      },
      "execution_count": 83,
      "outputs": [
        {
          "output_type": "stream",
          "name": "stdout",
          "text": [
            "순번 또는 왕의 이름을 입력1\n",
            "태조\n"
          ]
        }
      ]
    },
    {
      "cell_type": "code",
      "source": [
        "t=[1,2,3,4,5]\n",
        "t[1]=10"
      ],
      "metadata": {
        "id": "QtEfS22l9KnV"
      },
      "execution_count": 84,
      "outputs": []
    },
    {
      "cell_type": "code",
      "source": [
        "t=(1,2,3,4,5)\n",
        "t[1]=10\n",
        "\n",
        "# 84번 코드와 비교했을 때, 에러가 나는 이유는 무엇인가?"
      ],
      "metadata": {
        "colab": {
          "base_uri": "https://localhost:8080/",
          "height": 202
        },
        "id": "LVfhh5wx95vl",
        "outputId": "d5f400d8-c2db-4236-c497-a9883a341e96"
      },
      "execution_count": 86,
      "outputs": [
        {
          "output_type": "error",
          "ename": "TypeError",
          "evalue": "'tuple' object does not support item assignment",
          "traceback": [
            "\u001b[0;31m---------------------------------------------------------------------------\u001b[0m",
            "\u001b[0;31mTypeError\u001b[0m                                 Traceback (most recent call last)",
            "\u001b[0;32m/tmp/ipython-input-2636016738.py\u001b[0m in \u001b[0;36m<cell line: 0>\u001b[0;34m()\u001b[0m\n\u001b[1;32m      1\u001b[0m \u001b[0mt\u001b[0m\u001b[0;34m=\u001b[0m\u001b[0;34m(\u001b[0m\u001b[0;36m1\u001b[0m\u001b[0;34m,\u001b[0m\u001b[0;36m2\u001b[0m\u001b[0;34m,\u001b[0m\u001b[0;36m3\u001b[0m\u001b[0;34m,\u001b[0m\u001b[0;36m4\u001b[0m\u001b[0;34m,\u001b[0m\u001b[0;36m5\u001b[0m\u001b[0;34m)\u001b[0m\u001b[0;34m\u001b[0m\u001b[0;34m\u001b[0m\u001b[0m\n\u001b[0;32m----> 2\u001b[0;31m \u001b[0mt\u001b[0m\u001b[0;34m[\u001b[0m\u001b[0;36m1\u001b[0m\u001b[0;34m]\u001b[0m\u001b[0;34m=\u001b[0m\u001b[0;36m10\u001b[0m\u001b[0;34m\u001b[0m\u001b[0;34m\u001b[0m\u001b[0m\n\u001b[0m\u001b[1;32m      3\u001b[0m \u001b[0;34m\u001b[0m\u001b[0m\n\u001b[1;32m      4\u001b[0m \u001b[0;31m#에러가 나는 이유는 무엇인가?\u001b[0m\u001b[0;34m\u001b[0m\u001b[0;34m\u001b[0m\u001b[0m\n",
            "\u001b[0;31mTypeError\u001b[0m: 'tuple' object does not support item assignment"
          ]
        }
      ]
    },
    {
      "cell_type": "code",
      "source": [
        "coffe={'아메리카노':2000, '라떼' :3000, '녹차' :2500}\n",
        "coffe['아메리카노']"
      ],
      "metadata": {
        "colab": {
          "base_uri": "https://localhost:8080/"
        },
        "id": "d01WvyFZ-BFe",
        "outputId": "511713a4-bc49-46af-f3ad-fe371e2af692"
      },
      "execution_count": 87,
      "outputs": [
        {
          "output_type": "execute_result",
          "data": {
            "text/plain": [
              "2000"
            ]
          },
          "metadata": {},
          "execution_count": 87
        }
      ]
    },
    {
      "cell_type": "code",
      "source": [
        "for ky in coffe :\n",
        "  print(coffe[ky])"
      ],
      "metadata": {
        "colab": {
          "base_uri": "https://localhost:8080/"
        },
        "id": "uoeprM_J_pFF",
        "outputId": "29d23bd1-605b-4fcf-d38b-838247195002"
      },
      "execution_count": 88,
      "outputs": [
        {
          "output_type": "stream",
          "name": "stdout",
          "text": [
            "2000\n",
            "3000\n",
            "2500\n"
          ]
        }
      ]
    },
    {
      "cell_type": "code",
      "source": [
        "for ky in coffe :\n",
        "  print(ky)"
      ],
      "metadata": {
        "colab": {
          "base_uri": "https://localhost:8080/"
        },
        "id": "lbGPTvpMA0iF",
        "outputId": "29718ee2-7dab-483d-8d07-c866252225be"
      },
      "execution_count": 92,
      "outputs": [
        {
          "output_type": "stream",
          "name": "stdout",
          "text": [
            "아메리카노\n",
            "라떼\n",
            "녹차\n"
          ]
        }
      ]
    },
    {
      "cell_type": "code",
      "source": [
        "#음료 이름과 가격이 같이 나오게끔 하는 프로그램\n",
        "\n",
        "for ky,v in coffe.items() :\n",
        "  print(ky,v)"
      ],
      "metadata": {
        "colab": {
          "base_uri": "https://localhost:8080/"
        },
        "id": "oY4YpUXlAJYe",
        "outputId": "447d6106-e2ef-48a0-ddae-dbe99354de86"
      },
      "execution_count": 91,
      "outputs": [
        {
          "output_type": "stream",
          "name": "stdout",
          "text": [
            "아메리카노 2000\n",
            "라떼 3000\n",
            "녹차 2500\n"
          ]
        }
      ]
    },
    {
      "cell_type": "code",
      "source": [
        "# 전체 학생의 평균과 총점을 구하기\n",
        "\n",
        "score={'홍길동': 100, '이순신': 90, '강감찬': 80}\n",
        "mean=sum(score.values())/len(score)\n",
        "sum_all=sum(score.values())\n",
        "print(mean)\n",
        "print(sum_all)"
      ],
      "metadata": {
        "colab": {
          "base_uri": "https://localhost:8080/"
        },
        "id": "JAUsjL2cArQm",
        "outputId": "1356649f-abec-45b5-f703-c450ab04b5ba"
      },
      "execution_count": 102,
      "outputs": [
        {
          "output_type": "stream",
          "name": "stdout",
          "text": [
            "90.0\n",
            "270\n"
          ]
        }
      ]
    },
    {
      "cell_type": "code",
      "source": [
        "# 가장 높은 점수를 받은 학생의 이름을 출력하기"
      ],
      "metadata": {
        "id": "oIAEOHsiC_1t"
      },
      "execution_count": null,
      "outputs": []
    }
  ]
}