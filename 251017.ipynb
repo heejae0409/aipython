{
  "nbformat": 4,
  "nbformat_minor": 0,
  "metadata": {
    "colab": {
      "provenance": []
    },
    "kernelspec": {
      "name": "python3",
      "display_name": "Python 3"
    },
    "language_info": {
      "name": "python"
    }
  },
  "cells": [
    {
      "cell_type": "code",
      "execution_count": 11,
      "metadata": {
        "colab": {
          "base_uri": "https://localhost:8080/"
        },
        "id": "4fUvvaElgPOl",
        "outputId": "6e71cf7b-e454-4ffe-bdbd-bd7f4c5ea318"
      },
      "outputs": [
        {
          "output_type": "stream",
          "name": "stdout",
          "text": [
            "키를 입력하세요164\n",
            "몸무게를 입력하세요46.78\n",
            "17.39\n"
          ]
        }
      ],
      "source": [
        "# 실습 2\n",
        "# BMI의 키 단위는 미터(m)다. 따라서 cm으로 입력된 H값을 m로 바꿔줘야 한다.\n",
        "# '예를 들어, 몸무게 55kg에 키가 1.68m인 사람의 BMI는  = 19.48696 이다.', 입출력 예 -> 다 한 코드 검증용으로 사용하기\n",
        "# 함수 사용에 있어서 필요한 변수 카테고리: 4개\n",
        "# 1. 함수 이름, 2. 함수 안의 문장을 정의하는 변수들 3. 함수 밖에서 함수 안에 넣어줄 변수(h,w), 4. 함수를 사용해서 얻은 값을 저장할 변수(bm)\n",
        "\n",
        "def BMI_func(H, W) :\n",
        "  bmi=W/(H/100)**2\n",
        "  return round(bmi,2)\n",
        "\n",
        "h=float(input())\n",
        "w=float(input())\n",
        "bm=BMI_func(h,w)\n",
        "print(bm)\n"
      ]
    },
    {
      "cell_type": "code",
      "source": [
        "# input문 2개를 사용하지 않고, 한 줄에 A,B를 동시에 받는 방법\n",
        "# 시험칠 때 input문 2개로 받아버리면 다 틀린다. Sample Input 1에서 1 2라고 되어 있으므로 반드시 한 줄에 다 받아야 한다.\n",
        "\n",
        "a, b=map(int,input().split())\n",
        "print(a+b)"
      ],
      "metadata": {
        "id": "YHb4Y6NC3YkU"
      },
      "execution_count": null,
      "outputs": []
    },
    {
      "cell_type": "code",
      "source": [
        "# 실습 1-1: 이메일 주소 분리하기\n",
        "email = \"user@example.com\"\n",
        "username, domain = email.split(\"@\")\n",
        "print(f\"사용자명: {username}, 도메인: {domain}\")"
      ],
      "metadata": {
        "id": "AU4CpIOb5nc1"
      },
      "execution_count": null,
      "outputs": []
    },
    {
      "cell_type": "code",
      "source": [
        "# 실습 1-2: CSV 형식 데이터 처리\n",
        "csv_data = \"김철수,30,서울,개발자\"\n",
        "data_list=csv_data.split(\",\")\n",
        "print(f\"분리된 데이터: {data_list}\")"
      ],
      "metadata": {
        "id": "-41cIRPz5tfU"
      },
      "execution_count": null,
      "outputs": []
    },
    {
      "cell_type": "code",
      "source": [
        "# 실습 1-3: 경로 조합하기\n",
        "folders = [\"home\", \"user\", \"documents\", \"project\"]\n",
        "path=' '.join(folders)\n",
        "print(f\"경로: {path}\")"
      ],
      "metadata": {
        "colab": {
          "base_uri": "https://localhost:8080/"
        },
        "id": "qTLk-uve6Akc",
        "outputId": "f0d4f20b-93f1-40ea-8f88-881590bd2333"
      },
      "execution_count": 14,
      "outputs": [
        {
          "output_type": "stream",
          "name": "stdout",
          "text": [
            "경로: home user documents project\n"
          ]
        }
      ]
    },
    {
      "cell_type": "code",
      "source": [
        "# 실습 1-4: 단어를 문장으로 만들기\n",
        "words = [\"Python\", \"is\", \"awesome\"]\n",
        "sentence=' '.join(words)\n",
        "print(f\"문장: {sentence}\")"
      ],
      "metadata": {
        "colab": {
          "base_uri": "https://localhost:8080/"
        },
        "id": "jB5eV-iQ6gDM",
        "outputId": "587e3d8f-07ce-4e12-89cc-8ffa50798c22"
      },
      "execution_count": 13,
      "outputs": [
        {
          "output_type": "stream",
          "name": "stdout",
          "text": [
            "문장: Python is awesome\n"
          ]
        }
      ]
    },
    {
      "cell_type": "code",
      "source": [
        "# 실습 2-1: 1~20까지 숫자 중 3의 배수만\n",
        "multiples_of_3=[a for a in range(21) if a%3==0]\n",
        "print(f\"3의 배수: {multiples_of_3}\")"
      ],
      "metadata": {
        "colab": {
          "base_uri": "https://localhost:8080/"
        },
        "id": "uWFyxQfz6xbc",
        "outputId": "5362011a-7c58-4d2e-8faf-10f616392d98"
      },
      "execution_count": 17,
      "outputs": [
        {
          "output_type": "stream",
          "name": "stdout",
          "text": [
            "3의 배수: [0, 3, 6, 9, 12, 15, 18]\n"
          ]
        }
      ]
    },
    {
      "cell_type": "code",
      "source": [
        "# 실습 3-1: enumerate로 순위 매기기\n",
        "scores = [95, 87, 92, 88]\n",
        "print(\"성적 순위:\")\n",
        "for rank, score in enumerate(scores):\n",
        "  print(f\" {rank}등: {score}점\")"
      ],
      "metadata": {
        "colab": {
          "base_uri": "https://localhost:8080/"
        },
        "id": "T2E6cWfh89IF",
        "outputId": "2daa98a2-82cf-4bb9-f931-aa90deb7dde0"
      },
      "execution_count": 21,
      "outputs": [
        {
          "output_type": "stream",
          "name": "stdout",
          "text": [
            "성적 순위:\n",
            " 0등: 95점\n",
            " 1등: 87점\n",
            " 2등: 92점\n",
            " 3등: 88점\n"
          ]
        }
      ]
    },
    {
      "cell_type": "code",
      "source": [
        "# 실습 3-2: zip으로 학생 정보 결합\n",
        "students = [\"철수\", \"영희\", \"민수\"]\n",
        "scores = [85, 92, 78]\n",
        "grades = [\"B\", \"A\", \"C\"]\n",
        "print(\"\\n학생 성적표:\")\n",
        "for name, score, grade in zip(students, scores, grades):\n",
        "  print(f\" {name}: {score}점 ({grade}학점)\")"
      ],
      "metadata": {
        "colab": {
          "base_uri": "https://localhost:8080/"
        },
        "id": "rgWX5CEF9b4N",
        "outputId": "140b85bf-0f4c-4db0-a6ea-aa3affba6581"
      },
      "execution_count": 22,
      "outputs": [
        {
          "output_type": "stream",
          "name": "stdout",
          "text": [
            "\n",
            "학생 성적표:\n",
            " 철수: 85점 (B학점)\n",
            " 영희: 92점 (A학점)\n",
            " 민수: 78점 (C학점)\n"
          ]
        }
      ]
    },
    {
      "cell_type": "code",
      "source": [
        "# 실습 4-1: 섭씨를 화씨로 변환\n",
        "celsius = [0, 10, 20, 30, 40]\n",
        "fahrenheit=list(map(lambda x:(x*9/5)+32, celsius))\n",
        "print(f\"섭씨: {celsius}\")\n",
        "print(f\"화씨: {fahrenheit}\")"
      ],
      "metadata": {
        "colab": {
          "base_uri": "https://localhost:8080/",
          "height": 110
        },
        "id": "0BKa-ZlM_Asm",
        "outputId": "4451fc1c-3663-4c44-da10-8bf898bcbb2c"
      },
      "execution_count": 24,
      "outputs": [
        {
          "output_type": "error",
          "ename": "SyntaxError",
          "evalue": "invalid syntax. Perhaps you forgot a comma? (ipython-input-2339070579.py, line 3)",
          "traceback": [
            "\u001b[0;36m  File \u001b[0;32m\"/tmp/ipython-input-2339070579.py\"\u001b[0;36m, line \u001b[0;32m3\u001b[0m\n\u001b[0;31m    fahrenheit=list(map(lamda x:(x*9/5)+32, celsius))\u001b[0m\n\u001b[0m                        ^\u001b[0m\n\u001b[0;31mSyntaxError\u001b[0m\u001b[0;31m:\u001b[0m invalid syntax. Perhaps you forgot a comma?\n"
          ]
        }
      ]
    },
    {
      "cell_type": "code",
      "source": [
        "# 실습 5-1: 양수만 필터링\n",
        "numbers = [-5, 3, -1, 8, 0, -3, 7]\n",
        "positive= list(filter(lambda x:x>0, numbers))\n",
        "print(f\"전체 숫자: {numbers}\")\n",
        "print(f\"양수만: {positive}\")\n"
      ],
      "metadata": {
        "colab": {
          "base_uri": "https://localhost:8080/"
        },
        "id": "QO5l7YiBBrIH",
        "outputId": "695639df-955f-4975-9025-6298b2663c2b"
      },
      "execution_count": 27,
      "outputs": [
        {
          "output_type": "stream",
          "name": "stdout",
          "text": [
            "전체 숫자: [-5, 3, -1, 8, 0, -3, 7]\n",
            "양수만: [3, 8, 7]\n"
          ]
        }
      ]
    }
  ]
}